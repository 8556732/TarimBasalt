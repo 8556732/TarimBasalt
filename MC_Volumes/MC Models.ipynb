{
 "cells": [
  {
   "cell_type": "markdown",
   "metadata": {},
   "source": [
    "# Monte Carlo volume estimation\n",
    "\n",
    "This notebook is split into three sections: \n",
    "\n",
    "Section 1 loads the data\n",
    "\n",
    "Section 2 performs an area times volume estimate (Equation 1)\n",
    "\n",
    "Section 3 performs a grade based volume estimate using the estimated Permian GRV (Equation 2)\n"
   ]
  },
  {
   "cell_type": "markdown",
   "metadata": {},
   "source": [
    "## 1. Load data:"
   ]
  },
  {
   "cell_type": "code",
   "execution_count": 1,
   "metadata": {},
   "outputs": [],
   "source": [
    "import pandas as pd\n",
    "import numpy as np\n",
    "import matplotlib.pyplot as plt\n",
    "import scipy.stats as st\n",
    "plt.rcParams[\"font.family\"] = \"Arial\"\n",
    "plt.rcParams.update({'font.size': 14})\n",
    "\n",
    "df = pd.read_csv(\"BasaltData.csv\")\n",
    "Igz = df[\"Total igneous thickness\"].dropna()\n",
    "Well = df[\"Abbreviation\"].dropna()\n",
    "nlava = df[\"nLava\"].dropna()\n",
    "grade = df[\"Grade\"].dropna()\n",
    "\n",
    "alava = (Igz/nlava).dropna() # average lava thickness\n",
    "\n",
    "area = np.array([2.157e11,2.09261e11,2.13958e11,2.13958e11,2.1393e11]) # area estimates to define normal distribution\n",
    "vols = np.array([2.70265e14,2.02056e14,2.35955e14,2.35955e14,2.35905e14]) # volume estimates to define normal distribution"
   ]
  },
  {
   "cell_type": "markdown",
   "metadata": {},
   "source": [
    "## 2. Area times volume (Equation 1):"
   ]
  },
  {
   "cell_type": "code",
   "execution_count": 2,
   "metadata": {},
   "outputs": [
    {
     "data": {
      "text/html": [
       "<div>\n",
       "<style scoped>\n",
       "    .dataframe tbody tr th:only-of-type {\n",
       "        vertical-align: middle;\n",
       "    }\n",
       "\n",
       "    .dataframe tbody tr th {\n",
       "        vertical-align: top;\n",
       "    }\n",
       "\n",
       "    .dataframe thead th {\n",
       "        text-align: right;\n",
       "    }\n",
       "</style>\n",
       "<table border=\"1\" class=\"dataframe\">\n",
       "  <thead>\n",
       "    <tr style=\"text-align: right;\">\n",
       "      <th></th>\n",
       "      <th>Simulated Area</th>\n",
       "      <th>Simulated Thickness</th>\n",
       "      <th>Lavas</th>\n",
       "      <th>Lava Thickness (Avg)</th>\n",
       "      <th>Simulated Volume</th>\n",
       "      <th>LIP Volume</th>\n",
       "    </tr>\n",
       "  </thead>\n",
       "  <tbody>\n",
       "    <tr>\n",
       "      <th>count</th>\n",
       "      <td>9.869100e+04</td>\n",
       "      <td>98691.000000</td>\n",
       "      <td>98691.000000</td>\n",
       "      <td>98691.000000</td>\n",
       "      <td>9.869100e+04</td>\n",
       "      <td>9.869100e+04</td>\n",
       "    </tr>\n",
       "    <tr>\n",
       "      <th>mean</th>\n",
       "      <td>2.133624e+11</td>\n",
       "      <td>114.410177</td>\n",
       "      <td>3.630603</td>\n",
       "      <td>31.504056</td>\n",
       "      <td>2.441211e+13</td>\n",
       "      <td>5.424914e+13</td>\n",
       "    </tr>\n",
       "    <tr>\n",
       "      <th>std</th>\n",
       "      <td>2.155676e+09</td>\n",
       "      <td>164.858041</td>\n",
       "      <td>2.631244</td>\n",
       "      <td>31.722869</td>\n",
       "      <td>3.517827e+13</td>\n",
       "      <td>7.817394e+13</td>\n",
       "    </tr>\n",
       "    <tr>\n",
       "      <th>min</th>\n",
       "      <td>2.033601e+11</td>\n",
       "      <td>0.911842</td>\n",
       "      <td>1.000004</td>\n",
       "      <td>0.805546</td>\n",
       "      <td>1.941352e+11</td>\n",
       "      <td>4.314116e+11</td>\n",
       "    </tr>\n",
       "    <tr>\n",
       "      <th>10%</th>\n",
       "      <td>2.106070e+11</td>\n",
       "      <td>13.930065</td>\n",
       "      <td>1.280030</td>\n",
       "      <td>6.025366</td>\n",
       "      <td>2.969289e+12</td>\n",
       "      <td>6.598420e+12</td>\n",
       "    </tr>\n",
       "    <tr>\n",
       "      <th>50%</th>\n",
       "      <td>2.133606e+11</td>\n",
       "      <td>60.099380</td>\n",
       "      <td>2.818970</td>\n",
       "      <td>20.569851</td>\n",
       "      <td>1.281776e+13</td>\n",
       "      <td>2.848392e+13</td>\n",
       "    </tr>\n",
       "    <tr>\n",
       "      <th>90%</th>\n",
       "      <td>2.161283e+11</td>\n",
       "      <td>266.013282</td>\n",
       "      <td>7.081771</td>\n",
       "      <td>72.052656</td>\n",
       "      <td>5.673318e+13</td>\n",
       "      <td>1.260737e+14</td>\n",
       "    </tr>\n",
       "    <tr>\n",
       "      <th>max</th>\n",
       "      <td>2.237009e+11</td>\n",
       "      <td>3455.505099</td>\n",
       "      <td>32.279886</td>\n",
       "      <td>199.936983</td>\n",
       "      <td>7.401830e+14</td>\n",
       "      <td>1.644851e+15</td>\n",
       "    </tr>\n",
       "  </tbody>\n",
       "</table>\n",
       "</div>"
      ],
      "text/plain": [
       "       Simulated Area  Simulated Thickness         Lavas  \\\n",
       "count    9.869100e+04         98691.000000  98691.000000   \n",
       "mean     2.133624e+11           114.410177      3.630603   \n",
       "std      2.155676e+09           164.858041      2.631244   \n",
       "min      2.033601e+11             0.911842      1.000004   \n",
       "10%      2.106070e+11            13.930065      1.280030   \n",
       "50%      2.133606e+11            60.099380      2.818970   \n",
       "90%      2.161283e+11           266.013282      7.081771   \n",
       "max      2.237009e+11          3455.505099     32.279886   \n",
       "\n",
       "       Lava Thickness (Avg)  Simulated Volume    LIP Volume  \n",
       "count          98691.000000      9.869100e+04  9.869100e+04  \n",
       "mean              31.504056      2.441211e+13  5.424914e+13  \n",
       "std               31.722869      3.517827e+13  7.817394e+13  \n",
       "min                0.805546      1.941352e+11  4.314116e+11  \n",
       "10%                6.025366      2.969289e+12  6.598420e+12  \n",
       "50%               20.569851      1.281776e+13  2.848392e+13  \n",
       "90%               72.052656      5.673318e+13  1.260737e+14  \n",
       "max              199.936983      7.401830e+14  1.644851e+15  "
      ]
     },
     "execution_count": 2,
     "metadata": {},
     "output_type": "execute_result"
    }
   ],
   "source": [
    "# Input distributions:\n",
    "\n",
    "sav, lav, scav = st.lognorm.fit(alava) # lava thickness\n",
    "snv, lnv = st.expon.fit(nlava) # lava number\n",
    "siga, mua = st.norm.fit(area) # area\n",
    "\n",
    "# Fraction of cumulates:\n",
    "fractionation = 55 # in % - alter this for desired cumulate percentage/fractionation\n",
    "cum_frac = 1/(1-(fractionation*0.01)) # estimate multiplier for hidden volumes\n",
    "\n",
    "randomstate = 314159\n",
    "simulations = 100000\n",
    "\n",
    "nlavas = []\n",
    "zlavas = []\n",
    "zBasalt = []\n",
    "LIParea = []\n",
    "simvols = []\n",
    "\n",
    "np.random.seed(randomstate)\n",
    "\n",
    "for i in range(simulations):\n",
    "    nlav = st.expon.rvs(snv,lnv, size=1)\n",
    "    nlavas.append(nlav)\n",
    "    zlav = st.lognorm.rvs(sav, lav, scav, size=1)\n",
    "    zlavas.append(zlav)\n",
    "    zBas = nlav*zlav # number of lavas times avg thickness\n",
    "    zBasalt.append(zBas)\n",
    "    LIP = st.norm.rvs(siga, mua, size=1)\n",
    "    LIParea.append(LIP)\n",
    "    volb = LIP*zBas # total volume\n",
    "    simvols.append(volb)\n",
    "    \n",
    "volsimus = np.asarray(simvols)\n",
    "lavanumber = np.asarray(nlavas)\n",
    "lavathickness = np.asarray(zlavas)\n",
    "totalbasalt = np.asarray(zBasalt)\n",
    "totalarea = np.asarray(LIParea)\n",
    "lipvol = volsimus*cum_frac\n",
    "\n",
    "results =pd.DataFrame(index=range(simulations), data={'Simulated Area': totalarea[:,0], 'Simulated Thickness': totalbasalt[:,0],'Lavas':lavanumber[:,0],'Lava Thickness (Avg)':lavathickness[:,0],  'Simulated Volume':volsimus[:,0], 'LIP Volume':lipvol[:,0]})\n",
    "results.drop(results.loc[results['Lava Thickness (Avg)']>= 200.].index, inplace=True)\n",
    "results.drop(results.loc[results['Lavas']< 0.].index, inplace=True)\n",
    "results.describe(percentiles=[0.1,0.5,0.9])"
   ]
  },
  {
   "cell_type": "markdown",
   "metadata": {},
   "source": [
    "### Histograms:\n",
    "\n",
    "This is Figure 6.A & 6.B in the manuscript"
   ]
  },
  {
   "cell_type": "code",
   "execution_count": 3,
   "metadata": {},
   "outputs": [
    {
     "data": {
      "image/png": "[encoded data removed]",
      "text/plain": [
       "<Figure size 1152x288 with 2 Axes>"
      ]
     },
     "metadata": {
      "needs_background": "light"
     },
     "output_type": "display_data"
    }
   ],
   "source": [
    "fig, (ax1,ax2)=plt.subplots(1,2, figsize=(16,4));\n",
    "ax1.hist((volsimus/1e9), bins=100,range=(0, 1.5e5), density=True, color=\"lightgrey\"); # convert to km3\n",
    "ax1.set_xlim(0, 1.5e5);\n",
    "ax1.axvline(1e5, c=\"k\");\n",
    "ax1.set_xlabel(\"Erupted Volume ($\\mathregular{km^3}$)\");\n",
    "ax2.hist((lipvol/1e9), bins=100,range=(0, 1.5e5), density=True, color=\"lightgrey\"); # convert to km3\n",
    "ax2.set_xlim(0, 1.5e5);\n",
    "ax2.set_xlabel(\"Total Volume ($\\mathregular{km^3}$)\");\n",
    "ax2.axvline(1e5, c=\"k\");"
   ]
  },
  {
   "cell_type": "markdown",
   "metadata": {},
   "source": [
    "### Calculate probability of volume > LIP:"
   ]
  },
  {
   "cell_type": "code",
   "execution_count": 4,
   "metadata": {},
   "outputs": [
    {
     "name": "stdout",
     "output_type": "stream",
     "text": [
      "Probability of LIP-volume exceedance for erupted basalt =  0.03623\n",
      "Probability of LIP-volume exceedance for total volume =  0.13926\n"
     ]
    }
   ],
   "source": [
    "results['LIP'] = np.where(results['LIP Volume'] >= 1e14, 1, 0)\n",
    "results['notLIP'] = np.where(results['LIP Volume'] <= 1e14, 1, 0)\n",
    "pLIP = results[results[\"LIP Volume\"] > 1e14].count()[\"LIP Volume\"] / simulations\n",
    "pBAS = results[results[\"Simulated Volume\"] > 1e14].count()[\"Simulated Volume\"] / simulations\n",
    "print(\"Probability of LIP-volume exceedance for erupted basalt = \", pBAS)\n",
    "print(\"Probability of LIP-volume exceedance for total volume = \", pLIP)"
   ]
  },
  {
   "cell_type": "markdown",
   "metadata": {},
   "source": [
    "## 3. GRV times basalt grade (Equation 2):"
   ]
  },
  {
   "cell_type": "code",
   "execution_count": 5,
   "metadata": {},
   "outputs": [
    {
     "data": {
      "text/html": [
       "<div>\n",
       "<style scoped>\n",
       "    .dataframe tbody tr th:only-of-type {\n",
       "        vertical-align: middle;\n",
       "    }\n",
       "\n",
       "    .dataframe tbody tr th {\n",
       "        vertical-align: top;\n",
       "    }\n",
       "\n",
       "    .dataframe thead th {\n",
       "        text-align: right;\n",
       "    }\n",
       "</style>\n",
       "<table border=\"1\" class=\"dataframe\">\n",
       "  <thead>\n",
       "    <tr style=\"text-align: right;\">\n",
       "      <th></th>\n",
       "      <th>Simulated GRV</th>\n",
       "      <th>Simulated Grade</th>\n",
       "      <th>Simulated Volume</th>\n",
       "      <th>LIP Volume</th>\n",
       "    </tr>\n",
       "  </thead>\n",
       "  <tbody>\n",
       "    <tr>\n",
       "      <th>count</th>\n",
       "      <td>9.711900e+04</td>\n",
       "      <td>97119.000000</td>\n",
       "      <td>9.711900e+04</td>\n",
       "      <td>9.711900e+04</td>\n",
       "    </tr>\n",
       "    <tr>\n",
       "      <th>mean</th>\n",
       "      <td>2.359416e+14</td>\n",
       "      <td>0.123548</td>\n",
       "      <td>2.916113e+13</td>\n",
       "      <td>6.480250e+13</td>\n",
       "    </tr>\n",
       "    <tr>\n",
       "      <th>std</th>\n",
       "      <td>2.153311e+13</td>\n",
       "      <td>0.163763</td>\n",
       "      <td>3.893785e+13</td>\n",
       "      <td>8.652855e+13</td>\n",
       "    </tr>\n",
       "    <tr>\n",
       "      <th>min</th>\n",
       "      <td>1.537272e+14</td>\n",
       "      <td>0.007468</td>\n",
       "      <td>1.318610e+12</td>\n",
       "      <td>2.930243e+12</td>\n",
       "    </tr>\n",
       "    <tr>\n",
       "      <th>10%</th>\n",
       "      <td>2.083173e+14</td>\n",
       "      <td>0.014893</td>\n",
       "      <td>3.492717e+12</td>\n",
       "      <td>7.761593e+12</td>\n",
       "    </tr>\n",
       "    <tr>\n",
       "      <th>50%</th>\n",
       "      <td>2.358979e+14</td>\n",
       "      <td>0.058575</td>\n",
       "      <td>1.375992e+13</td>\n",
       "      <td>3.057759e+13</td>\n",
       "    </tr>\n",
       "    <tr>\n",
       "      <th>90%</th>\n",
       "      <td>2.636528e+14</td>\n",
       "      <td>0.321744</td>\n",
       "      <td>7.603349e+13</td>\n",
       "      <td>1.689633e+14</td>\n",
       "    </tr>\n",
       "    <tr>\n",
       "      <th>max</th>\n",
       "      <td>3.282577e+14</td>\n",
       "      <td>0.999569</td>\n",
       "      <td>2.848908e+14</td>\n",
       "      <td>6.330907e+14</td>\n",
       "    </tr>\n",
       "  </tbody>\n",
       "</table>\n",
       "</div>"
      ],
      "text/plain": [
       "       Simulated GRV  Simulated Grade  Simulated Volume    LIP Volume\n",
       "count   9.711900e+04     97119.000000      9.711900e+04  9.711900e+04\n",
       "mean    2.359416e+14         0.123548      2.916113e+13  6.480250e+13\n",
       "std     2.153311e+13         0.163763      3.893785e+13  8.652855e+13\n",
       "min     1.537272e+14         0.007468      1.318610e+12  2.930243e+12\n",
       "10%     2.083173e+14         0.014893      3.492717e+12  7.761593e+12\n",
       "50%     2.358979e+14         0.058575      1.375992e+13  3.057759e+13\n",
       "90%     2.636528e+14         0.321744      7.603349e+13  1.689633e+14\n",
       "max     3.282577e+14         0.999569      2.848908e+14  6.330907e+14"
      ]
     },
     "execution_count": 5,
     "metadata": {},
     "output_type": "execute_result"
    }
   ],
   "source": [
    "# Input distributions:\n",
    "\n",
    "sigv, muv = st.norm.fit(vols)\n",
    "distv = st.norm(loc=sigv, scale=muv)\n",
    "shape, loc, scale = st.lognorm.fit(grade)\n",
    "\n",
    "# Fraction of cumulates:\n",
    "fractionation = 55 # in % - alter this for desired cumulate percentage/fractionation\n",
    "cum_frac = 1/(1-(fractionation*0.01)) # estimate multiplier for hidden volumes\n",
    "\n",
    "# initiate monte carlo\n",
    "randomstate = 314159\n",
    "simulations = 100000 \n",
    "\n",
    "simvols = []\n",
    "grvs = []\n",
    "grades = []\n",
    "\n",
    "np.random.seed(randomstate)\n",
    "\n",
    "for i in range(simulations):\n",
    "    vsim = st.norm.rvs(sigv, muv, size=1)\n",
    "    gsim = st.lognorm.rvs(shape, loc, scale, size=1)\n",
    "    volume = vsim*gsim\n",
    "    simvols.append(volume)\n",
    "    grvs.append(vsim)\n",
    "    grades.append(gsim)\n",
    "    \n",
    "volsimus = np.asarray(simvols)\n",
    "simgrade, simgrv = np.asarray(grades), np.asarray(grvs)\n",
    "lipvol = volsimus*cum_frac\n",
    "\n",
    "results =pd.DataFrame(index=range(simulations), data={'Simulated GRV': simgrv[:,0], 'Simulated Grade': simgrade[:,0], 'Simulated Volume':volsimus[:,0], 'LIP Volume':lipvol[:,0]})\n",
    "results.drop(results.loc[results['Simulated Grade']>= 1.].index, inplace=True)\n",
    "results.describe(percentiles=[0.1,0.5,0.9])"
   ]
  },
  {
   "cell_type": "markdown",
   "metadata": {},
   "source": [
    "### Histograms:\n",
    "\n",
    "This is Figure 6.C & 6.D in the manuscript"
   ]
  },
  {
   "cell_type": "code",
   "execution_count": 6,
   "metadata": {},
   "outputs": [
    {
     "data": {
      "image/png": "[encoded data removed]",
      "text/plain": [
       "<Figure size 1152x288 with 2 Axes>"
      ]
     },
     "metadata": {
      "needs_background": "light"
     },
     "output_type": "display_data"
    }
   ],
   "source": [
    "fig, (ax1,ax2)=plt.subplots(1,2, figsize=(16,4));\n",
    "ax1.hist((volsimus/1e9), bins=100,range=(0, 1.5e5), density=True, color=\"lightgrey\"); # convert to km3\n",
    "ax1.set_xlim(0, 1.5e5);\n",
    "ax1.axvline(1e5, c=\"k\");\n",
    "ax1.set_xlabel(\"Erupted Volume ($\\mathregular{km^3}$)\");\n",
    "ax2.hist((lipvol/1e9), bins=100,range=(0, 1.5e5), density=True, color=\"lightgrey\"); # convert to km3\n",
    "ax2.set_xlim(0, 1.5e5);\n",
    "ax2.set_xlabel(\"Total Volume ($\\mathregular{km^3}$)\");\n",
    "ax2.axvline(1e5, c=\"k\");"
   ]
  },
  {
   "cell_type": "markdown",
   "metadata": {},
   "source": [
    "### Calculate probability of volume > LIP:"
   ]
  },
  {
   "cell_type": "code",
   "execution_count": 7,
   "metadata": {},
   "outputs": [
    {
     "name": "stdout",
     "output_type": "stream",
     "text": [
      "Probability of LIP-volume exceedance for erupted basalt =  0.06302\n",
      "Probability of LIP-volume exceedance for total volume =  0.18434\n"
     ]
    }
   ],
   "source": [
    "results['LIP'] = np.where(results['LIP Volume'] >= 1e14, 1, 0)\n",
    "results['notLIP'] = np.where(results['LIP Volume'] <= 1e14, 1, 0)\n",
    "pLIP = results[results[\"LIP Volume\"] > 1e14].count()[\"LIP Volume\"] / simulations\n",
    "pBAS = results[results[\"Simulated Volume\"] > 1e14].count()[\"Simulated Volume\"] / simulations\n",
    "print(\"Probability of LIP-volume exceedance for erupted basalt = \", pBAS)\n",
    "print(\"Probability of LIP-volume exceedance for total volume = \", pLIP)"
   ]
  }
 ],
 "metadata": {
  "kernelspec": {
   "display_name": "Python 3",
   "language": "python",
   "name": "python3"
  },
  "language_info": {
   "codemirror_mode": {
    "name": "ipython",
    "version": 3
   },
   "file_extension": ".py",
   "mimetype": "text/x-python",
   "name": "python",
   "nbconvert_exporter": "python",
   "pygments_lexer": "ipython3",
   "version": "3.8.3"
  }
 },
 "nbformat": 4,
 "nbformat_minor": 4
}
